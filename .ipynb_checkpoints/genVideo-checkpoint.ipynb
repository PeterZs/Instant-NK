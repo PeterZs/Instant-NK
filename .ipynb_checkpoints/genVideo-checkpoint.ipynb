{
 "cells": [
  {
   "cell_type": "code",
   "execution_count": null,
   "metadata": {},
   "outputs": [],
   "source": [
    "fps = 16\n",
    "width = 880\n",
    "height = 880 \n",
    "size = (width,height) \n",
    "import cv2\n",
    "def makeVideoP(videowriter, picture, ss='RGB'):\n",
    "    videowriter.write(picture)\n",
    "    \n",
    "    \n",
    "videowriter = cv2.VideoWriter(\"fusion.avi\",cv2.VideoWriter_fourcc('M','J','P','G'),fps,size)\n",
    "folder = r'/new_disk/jyh/animationMesh/torch-ngp/zhengshuang_svr2/validation'\n",
    "\n",
    "for i in range(0,90):\n",
    "    src = folder+ '248_%d.png' % i\n",
    "    print(src)\n",
    "    image_pred = cv2.imread(src)\n",
    "    image_pred = image_pred[:height,:width]\n",
    "    makeVideoP(videowriter,image_pred) \n",
    "videowriter.release()\n",
    "print('ok')"
   ]
  }
 ],
 "metadata": {
  "kernelspec": {
   "display_name": "Python 3",
   "language": "python",
   "name": "python3"
  },
  "language_info": {
   "codemirror_mode": {
    "name": "ipython",
    "version": 3
   },
   "file_extension": ".py",
   "mimetype": "text/x-python",
   "name": "python",
   "nbconvert_exporter": "python",
   "pygments_lexer": "ipython3",
   "version": "3.8.5"
  }
 },
 "nbformat": 4,
 "nbformat_minor": 4
}
