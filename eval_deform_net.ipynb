{
 "cells": [
  {
   "cell_type": "code",
   "execution_count": 3,
   "metadata": {},
   "outputs": [],
   "source": [
    "import torch\n",
    "import trimesh\n",
    "from nerf.provider import NeRFDataset\n",
    "from nerf.provider_frames import NeRFDatasetFrames\n",
    "from nerf.utils import *\n",
    "from nerf.network_time_deform import NeRFNetwork\n",
    "import argparse\n",
    "\n",
    "def load_checkpoint(model, checkpoint=None):\n",
    "        checkpoint_dict = torch.load(checkpoint)\n",
    "        if 'model' not in checkpoint_dict:\n",
    "            model.load_state_dict(checkpoint_dict,1)\n",
    "            log(\"[INFO] loaded model.\")\n",
    "            return\n",
    "        missing_keys, unexpected_keys = model.load_state_dict(checkpoint_dict['model'], strict=False)\n",
    "        print(\"[INFO] loaded model.\")\n",
    "        return model\n",
    "    \n",
    "def load_vertices(coord_file, cuda_id = 0):\n",
    "    mesh = trimesh.load(coord_file)\n",
    "    coords =  np.asarray(mesh.vertices)\n",
    "    coords = torch.from_numpy(coords).cuda(cuda_id)\n",
    "    coords = coords.to(torch.float32)\n",
    "    return coords,mesh"
   ]
  },
  {
   "cell_type": "code",
   "execution_count": 11,
   "metadata": {},
   "outputs": [
    {
     "name": "stdout",
     "output_type": "stream",
     "text": [
      "[INFO] loaded model.\n",
      "cuda:1\n"
     ]
    }
   ],
   "source": [
    "num_frames = 2\n",
    "model_path = '/new_disk/jyh/animationMesh/torch-ngp/results/spider_test/checkpoints/ngp_ep0506.pth.tar'\n",
    "cuda_id = 1\n",
    "model = NeRFNetwork(\n",
    "    encoding=\"hashgrid\", encoding_dir=\"sphere_harmonics\",\n",
    "    num_layers=2,  geo_feat_dim=15, num_layers_color=3, hidden_dim_color=64,\n",
    "    num_frames = num_frames,\n",
    ")\n",
    "model = load_checkpoint(model, model_path)\n",
    "model.eval()\n",
    "model = model.to(cuda_id)\n",
    "print(next(model.parameters()).device)\n"
   ]
  },
  {
   "cell_type": "code",
   "execution_count": 13,
   "metadata": {},
   "outputs": [
    {
     "name": "stdout",
     "output_type": "stream",
     "text": [
      "/new_disk/jyh/datasets/denseView/spider2/dealed_model/050.obj\n",
      "tensor([[ 3.4177e-03, -1.2154e-01, -4.4783e-02],\n",
      "        [-1.1985e-01,  2.3555e-01, -2.4904e-02],\n",
      "        [-2.3230e-02,  5.7250e-02,  2.4686e-02],\n",
      "        ...,\n",
      "        [-1.5323e-01, -2.5637e-01, -9.8321e-03],\n",
      "        [ 1.4978e-02,  8.1799e-02,  2.1844e-02],\n",
      "        [-1.5150e-01, -2.2492e-01, -8.5683e-07]], device='cuda:1')\n",
      "tensor([[-0.1498,  0.0068, -0.3719],\n",
      "        [-0.0902, -0.3630,  0.6994],\n",
      "        [ 0.0586, -0.0732,  0.1645],\n",
      "        ...,\n",
      "        [-0.0450, -0.4632, -0.7764],\n",
      "        [ 0.0501,  0.0415,  0.2381],\n",
      "        [-0.0155, -0.4580, -0.6820]], device='cuda:1', grad_fn=<MulBackward0>)\n"
     ]
    }
   ],
   "source": [
    "coord_file = '/new_disk/jyh/datasets/denseView/spider2/dealed_model/%03d.obj' % 50\n",
    "print(coord_file)\n",
    "vertices,mesh = load_vertices(coord_file,cuda_id)\n",
    "vertices = vertices / 3\n",
    "vertices[:,[2,0,1]] = vertices[:,[0,1,2]]\n",
    "np.savetxt('hh.txt',vertices.detach().cpu().numpy())\n",
    "print(vertices)\n",
    "warp_vertices = model.deform(vertices, 1)\n",
    "warp_vertices[:,[0,1,2]] = warp_vertices[:,[2,0,1]]\n",
    "warp_vertices = warp_vertices * 3\n",
    "print(warp_vertices)\n",
    "warp_vertices = warp_vertices.detach().cpu().numpy()\n",
    "\n",
    "_ = mesh.export('before.obj')\n",
    "mesh.vertices = warp_vertices.tolist()\n",
    "_ = mesh.export('warp.obj')\n"
   ]
  },
  {
   "cell_type": "code",
   "execution_count": null,
   "metadata": {},
   "outputs": [],
   "source": [
    "tensor([[ 0.1274, -0.3516, -0.0315],\n",
    "        [-0.1709,  0.1021, -0.0205],\n",
    "        [-0.1849,  0.1022, -0.0485],\n",
    "        ...,\n",
    "        [-0.1469, -0.1623, -0.0382],\n",
    "        [-0.0052,  0.0927,  0.0194],\n",
    "        [-0.1565, -0.0637, -0.0284]], device='cuda:1')\n",
    "tensor([[-0.3102,  0.3950, -0.9807],\n",
    "        [-0.3035, -0.5141,  0.3920],\n",
    "        [-0.2025, -0.5316,  0.3875],\n",
    "        ...,\n",
    "        [-0.2123, -0.3729, -0.4122],\n",
    "        [-0.1616,  0.1053,  0.3552],\n",
    "        [-0.3562, -0.4488, -0.1125]], device='cuda:1', grad_fn=<MulBackward0>)"
   ]
  }
 ],
 "metadata": {
  "kernelspec": {
   "display_name": "Python 3",
   "language": "python",
   "name": "python3"
  },
  "language_info": {
   "codemirror_mode": {
    "name": "ipython",
    "version": 3
   },
   "file_extension": ".py",
   "mimetype": "text/x-python",
   "name": "python",
   "nbconvert_exporter": "python",
   "pygments_lexer": "ipython3",
   "version": "3.8.5"
  }
 },
 "nbformat": 4,
 "nbformat_minor": 4
}
