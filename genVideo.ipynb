{
 "cells": [
  {
   "cell_type": "code",
   "execution_count": 13,
   "metadata": {},
   "outputs": [
    {
     "name": "stdout",
     "output_type": "stream",
     "text": [
      "/data/new_disk/jyh/animationMesh/torch-ngp/spider2_can7/validation/ngp_0098_0001.png\n",
      "(640, 360, 3)\n",
      "/data/new_disk/jyh/animationMesh/torch-ngp/spider2_can7/validation/ngp_0098_0002.png\n",
      "(640, 360, 3)\n",
      "/data/new_disk/jyh/animationMesh/torch-ngp/spider2_can7/validation/ngp_0098_0003.png\n",
      "(640, 360, 3)\n",
      "/data/new_disk/jyh/animationMesh/torch-ngp/spider2_can7/validation/ngp_0098_0004.png\n",
      "(640, 360, 3)\n",
      "/data/new_disk/jyh/animationMesh/torch-ngp/spider2_can7/validation/ngp_0098_0005.png\n",
      "(640, 360, 3)\n",
      "/data/new_disk/jyh/animationMesh/torch-ngp/spider2_can7/validation/ngp_0098_0006.png\n",
      "(640, 360, 3)\n",
      "/data/new_disk/jyh/animationMesh/torch-ngp/spider2_can7/validation/ngp_0098_0007.png\n",
      "(640, 360, 3)\n",
      "/data/new_disk/jyh/animationMesh/torch-ngp/spider2_can7/validation/ngp_0098_0008.png\n",
      "(640, 360, 3)\n",
      "/data/new_disk/jyh/animationMesh/torch-ngp/spider2_can7/validation/ngp_0098_0009.png\n",
      "(640, 360, 3)\n",
      "/data/new_disk/jyh/animationMesh/torch-ngp/spider2_can7/validation/ngp_0098_0010.png\n",
      "(640, 360, 3)\n",
      "/data/new_disk/jyh/animationMesh/torch-ngp/spider2_can7/validation/ngp_0098_0011.png\n",
      "(640, 360, 3)\n",
      "/data/new_disk/jyh/animationMesh/torch-ngp/spider2_can7/validation/ngp_0098_0012.png\n",
      "(640, 360, 3)\n",
      "/data/new_disk/jyh/animationMesh/torch-ngp/spider2_can7/validation/ngp_0098_0013.png\n",
      "(640, 360, 3)\n",
      "/data/new_disk/jyh/animationMesh/torch-ngp/spider2_can7/validation/ngp_0098_0014.png\n",
      "(640, 360, 3)\n",
      "/data/new_disk/jyh/animationMesh/torch-ngp/spider2_can7/validation/ngp_0098_0015.png\n",
      "(640, 360, 3)\n",
      "/data/new_disk/jyh/animationMesh/torch-ngp/spider2_can7/validation/ngp_0098_0016.png\n",
      "(640, 360, 3)\n",
      "/data/new_disk/jyh/animationMesh/torch-ngp/spider2_can7/validation/ngp_0098_0017.png\n",
      "(640, 360, 3)\n",
      "/data/new_disk/jyh/animationMesh/torch-ngp/spider2_can7/validation/ngp_0098_0018.png\n",
      "(640, 360, 3)\n",
      "/data/new_disk/jyh/animationMesh/torch-ngp/spider2_can7/validation/ngp_0098_0019.png\n",
      "(640, 360, 3)\n",
      "/data/new_disk/jyh/animationMesh/torch-ngp/spider2_can7/validation/ngp_0098_0020.png\n",
      "(640, 360, 3)\n",
      "/data/new_disk/jyh/animationMesh/torch-ngp/spider2_can7/validation/ngp_0098_0021.png\n",
      "(640, 360, 3)\n",
      "/data/new_disk/jyh/animationMesh/torch-ngp/spider2_can7/validation/ngp_0098_0022.png\n",
      "(640, 360, 3)\n",
      "/data/new_disk/jyh/animationMesh/torch-ngp/spider2_can7/validation/ngp_0098_0023.png\n",
      "(640, 360, 3)\n",
      "/data/new_disk/jyh/animationMesh/torch-ngp/spider2_can7/validation/ngp_0098_0024.png\n",
      "(640, 360, 3)\n",
      "/data/new_disk/jyh/animationMesh/torch-ngp/spider2_can7/validation/ngp_0098_0025.png\n",
      "(640, 360, 3)\n",
      "/data/new_disk/jyh/animationMesh/torch-ngp/spider2_can7/validation/ngp_0098_0026.png\n",
      "(640, 360, 3)\n",
      "/data/new_disk/jyh/animationMesh/torch-ngp/spider2_can7/validation/ngp_0098_0027.png\n",
      "(640, 360, 3)\n",
      "/data/new_disk/jyh/animationMesh/torch-ngp/spider2_can7/validation/ngp_0098_0028.png\n",
      "(640, 360, 3)\n",
      "/data/new_disk/jyh/animationMesh/torch-ngp/spider2_can7/validation/ngp_0098_0029.png\n",
      "(640, 360, 3)\n",
      "/data/new_disk/jyh/animationMesh/torch-ngp/spider2_can7/validation/ngp_0098_0030.png\n",
      "(640, 360, 3)\n",
      "/data/new_disk/jyh/animationMesh/torch-ngp/spider2_can7/validation/ngp_0098_0031.png\n",
      "(640, 360, 3)\n",
      "/data/new_disk/jyh/animationMesh/torch-ngp/spider2_can7/validation/ngp_0098_0032.png\n",
      "(640, 360, 3)\n",
      "/data/new_disk/jyh/animationMesh/torch-ngp/spider2_can7/validation/ngp_0098_0033.png\n",
      "(640, 360, 3)\n",
      "/data/new_disk/jyh/animationMesh/torch-ngp/spider2_can7/validation/ngp_0098_0034.png\n",
      "(640, 360, 3)\n",
      "ok\n"
     ]
    }
   ],
   "source": [
    "fps = 16\n",
    "width = 360\n",
    "height = 640 \n",
    "size = (width,height) \n",
    "import cv2\n",
    "def makeVideoP(videowriter, picture, ss='RGB'):\n",
    "    videowriter.write(picture)\n",
    "    \n",
    "videowriter = cv2.VideoWriter(\"/data/new_disk/jyh/animationMesh/torch-ngp/spider.avi\",cv2.VideoWriter_fourcc('M','J','P','G'),fps,size)\n",
    "folder = r'/data/new_disk/jyh/animationMesh/torch-ngp/spider2_can7/validation'\n",
    "\n",
    "epoch = 98\n",
    "\n",
    "for i in range(1,35):\n",
    "    src = folder+ '/ngp_%04d_%04d.png' % (epoch,i)\n",
    "    print(src)\n",
    "    image_pred = cv2.imread(src)\n",
    "    print(image_pred.shape)\n",
    "    makeVideoP(videowriter,image_pred) \n",
    "videowriter.release()\n",
    "print('ok')"
   ]
  },
  {
   "cell_type": "code",
   "execution_count": 10,
   "metadata": {},
   "outputs": [
    {
     "name": "stdout",
     "output_type": "stream",
     "text": [
      "tensor([[ 1.0377e-02,  4.0131e-02, -2.5983e-02,  8.3503e-03, -7.4399e-02,\n",
      "         -4.6863e-02, -7.2969e-02,  7.6486e-14,  4.6750e-02, -7.9605e-05,\n",
      "          9.6329e-03, -1.6052e-09,  1.1650e-02,  2.7768e-02,  3.0066e-02,\n",
      "          1.3014e-02,  2.3934e-03,  1.3216e-04, -4.6172e-02, -1.0272e-09,\n",
      "         -5.4406e-03, -5.6999e-05,  1.3370e-02,  1.1538e-01, -1.6154e-01,\n",
      "         -7.4732e-02, -3.8788e-02, -6.1709e-02, -4.8316e-02, -1.2150e-03,\n",
      "         -1.3890e-01, -7.4207e-03,  1.9898e-02, -1.0552e-02,  6.1269e-02,\n",
      "          1.1212e-01, -5.2101e-02, -7.6284e-02, -3.0499e-04, -8.0057e-02,\n",
      "         -3.4225e-02, -4.0012e-02, -5.9476e-02, -8.9708e-02,  1.3228e-02,\n",
      "         -6.4025e-02,  6.9213e-02,  8.6835e-04,  7.6667e-02,  1.0324e-02,\n",
      "         -4.9951e-03, -1.4953e-02,  1.4655e-02,  8.7152e-03,  5.1268e-02,\n",
      "          2.8946e-03,  1.1871e-02, -3.3790e-02, -4.1258e-02, -3.6465e-02,\n",
      "         -4.8862e-02,  1.8028e-02,  5.4075e-03,  3.9521e-02, -3.4982e-03,\n",
      "          1.7601e-02, -1.0196e-02,  1.2092e-02,  3.3121e-02,  9.9288e-02,\n",
      "         -2.3646e-02,  5.9303e-02, -4.3975e-03,  3.6703e-02, -4.3435e-02,\n",
      "         -2.3605e-02, -4.5578e-02,  5.6712e-03,  5.7086e-03, -1.1435e-03,\n",
      "         -1.2271e-02,  1.7443e-02, -3.7811e-02,  9.8725e-02, -8.7665e-02,\n",
      "         -1.9188e-02,  7.7231e-02, -4.2762e-02, -8.9367e-02, -8.2446e-02,\n",
      "         -1.0949e-01,  7.7639e-02, -8.4401e-09, -1.7940e-01, -4.1298e-02,\n",
      "          1.4456e-03,  3.0132e-02, -1.1322e-01,  1.4109e-02, -6.7148e-03,\n",
      "          1.6836e-02, -5.0846e-03, -2.0636e-02,  4.7121e-02,  7.4313e-03,\n",
      "          3.4778e-02,  2.9702e-02,  7.6952e-03,  1.0413e-01, -3.9706e-02,\n",
      "         -6.9053e-02, -2.9999e-02, -3.3814e-02, -2.9182e-02, -7.0946e-04,\n",
      "          5.0511e-02, -8.8191e-04,  4.8349e-02, -2.3825e-02, -7.0589e-03,\n",
      "          7.4629e-02, -1.1885e-02, -4.0010e-02,  5.2034e-02,  4.5862e-03,\n",
      "         -3.2583e-02,  6.1417e-02, -3.2400e-02],\n",
      "        [-6.3272e-03, -4.2971e-02,  4.6976e-03,  7.4698e-03,  4.9877e-02,\n",
      "          8.6213e-02,  3.7851e-03, -7.6077e-14, -4.1173e-02,  7.1543e-03,\n",
      "          4.1397e-03,  5.3263e-07, -1.0576e-01, -4.5068e-03, -8.4025e-02,\n",
      "         -3.5320e-02,  4.4480e-03, -3.5660e-04,  4.3626e-02, -3.9373e-12,\n",
      "          1.5904e-02,  1.7837e-11,  4.4439e-02,  2.1257e-02, -6.9807e-02,\n",
      "         -6.4112e-02,  3.5212e-02, -3.3420e-02, -1.8277e-02, -7.7095e-03,\n",
      "         -6.5181e-02,  3.1951e-02, -2.5232e-02,  6.9141e-02, -1.2330e-01,\n",
      "          7.1495e-02, -7.5306e-03,  7.5616e-03,  8.8411e-03, -2.1438e-02,\n",
      "         -3.2940e-02, -9.9550e-02, -3.4071e-02,  9.1336e-02,  8.3895e-02,\n",
      "         -2.7684e-02, -1.7522e-02,  9.9526e-02,  8.9458e-02,  1.5600e-01,\n",
      "         -2.0968e-03,  3.1513e-02, -1.8232e-02,  6.7350e-02, -6.1895e-02,\n",
      "          2.5223e-03,  7.8237e-04, -4.9282e-02, -4.8997e-02, -2.6449e-02,\n",
      "         -5.1140e-03, -1.2094e-02,  9.6143e-04,  7.3548e-02, -3.4916e-04,\n",
      "          5.3477e-02, -6.4417e-02, -6.4729e-03, -3.9943e-03, -2.3131e-02,\n",
      "          5.0756e-03, -3.8054e-02,  4.8552e-03, -9.8450e-03, -1.6963e-02,\n",
      "          2.6458e-02, -5.2296e-02, -1.5672e-02,  4.7590e-02,  7.4636e-03,\n",
      "         -1.7132e-03, -8.2481e-03, -4.5728e-03, -5.4139e-02,  8.8026e-02,\n",
      "          3.0094e-02, -5.3221e-02, -3.2130e-02, -1.1815e-01, -9.4711e-02,\n",
      "          9.0473e-02,  2.3735e-02, -3.8741e-07,  7.8382e-02, -8.9628e-02,\n",
      "          1.2434e-01,  1.0935e-04,  8.9877e-02, -3.8284e-02, -3.0045e-02,\n",
      "         -4.6951e-02,  1.0822e-01, -1.2333e-04, -1.2263e-01, -4.7654e-03,\n",
      "          3.9770e-02,  2.5877e-02,  3.8689e-02, -9.5470e-02, -4.6565e-04,\n",
      "          9.8956e-03, -5.1308e-02, -3.4390e-02,  3.2736e-02, -4.4077e-02,\n",
      "          8.5855e-03,  3.2570e-03,  2.5802e-02,  6.6543e-02,  9.3549e-02,\n",
      "         -6.8860e-02,  1.2186e-01, -9.5728e-03, -6.8408e-02,  1.2944e-02,\n",
      "         -4.1797e-02, -1.3088e-02, -2.2404e-03],\n",
      "        [ 6.6382e-03, -1.8805e-02, -1.2025e-02,  1.1716e-02,  7.6548e-02,\n",
      "         -7.5309e-02,  6.6500e-02,  1.0610e-13, -2.5027e-02,  4.7862e-04,\n",
      "          1.0972e-02,  5.4888e-07, -8.3975e-02,  6.7328e-03, -7.9403e-02,\n",
      "          7.6235e-02, -3.8991e-02, -1.8227e-02,  1.2192e-02,  5.1727e-11,\n",
      "          3.1797e-02,  5.9930e-11, -4.1666e-02,  2.7142e-02, -5.1346e-02,\n",
      "         -8.6823e-02,  4.4161e-02,  8.5006e-02,  2.9849e-02,  2.7054e-03,\n",
      "          7.9509e-02, -8.4464e-02,  2.0737e-02,  4.6799e-02,  6.1248e-02,\n",
      "         -1.3923e-02, -6.6052e-02,  5.0918e-02, -1.2929e-02,  9.5867e-02,\n",
      "          4.1192e-02, -8.2377e-02,  6.0671e-02,  6.7988e-02,  4.4784e-03,\n",
      "          3.7352e-02, -2.0530e-03,  7.6203e-02,  1.0991e-01,  2.2426e-02,\n",
      "          1.8181e-03,  1.6762e-01,  7.8456e-02, -1.2191e-01, -2.9569e-02,\n",
      "          3.4785e-04, -9.5979e-03, -1.4450e-02,  1.4776e-02,  1.5401e-03,\n",
      "         -3.1997e-02, -3.6327e-02,  4.3034e-03, -5.6291e-02,  1.1275e-04,\n",
      "         -2.2449e-02,  2.6974e-02, -2.1636e-02,  2.5754e-02, -1.5527e-02,\n",
      "         -3.1497e-02,  3.5772e-02, -1.4407e-04,  3.8594e-02, -6.5289e-03,\n",
      "         -2.4500e-02, -2.6358e-02,  2.2663e-02,  2.8766e-02, -1.6537e-02,\n",
      "         -2.5779e-02,  2.6836e-02, -2.3518e-02, -8.1458e-02,  4.7884e-02,\n",
      "          1.0457e-01,  3.4255e-02,  5.6382e-03,  9.2657e-02, -8.7916e-02,\n",
      "         -2.9621e-02, -6.4280e-03, -9.2476e-08,  2.0766e-01, -6.6397e-02,\n",
      "          4.2467e-02,  1.2537e-02,  5.7164e-03,  6.8431e-03,  5.2285e-02,\n",
      "         -1.0982e-01, -4.2574e-03,  3.4355e-02, -6.9528e-02, -3.2884e-03,\n",
      "         -5.8808e-02, -1.3237e-02,  1.7503e-02,  9.4772e-02,  4.8493e-02,\n",
      "          7.5851e-02,  3.9003e-02,  4.6276e-02, -1.3616e-02, -5.7127e-03,\n",
      "          1.8033e-05, -1.1344e-03,  1.9382e-02,  3.4735e-02,  3.4481e-02,\n",
      "         -5.3665e-02, -2.5528e-02,  2.4103e-02,  7.1353e-02,  9.0558e-03,\n",
      "         -1.5181e-02,  6.5177e-02,  3.8723e-02]], device='cuda:0')\n"
     ]
    }
   ],
   "source": [
    "# ['encoder_deform.embeddings', 'encoder_deform.offsets', 'deform_net.0.weight', 'deform_net.0.bias', 'deform_net.1.weight', 'deform_net.1.bias', 'encoder.embeddings', 'encoder.offsets', 'sigma_net.0.weight', 'sigma_net.0.bias', 'sigma_net.1.weight', 'sigma_net.1.bias', 'color_net.0.weight', 'color_net.0.bias', 'color_net.1.weight', 'color_net.1.bias', 'color_net.2.weight', 'color_net.2.bias']\n",
    "import torch\n",
    "checkpoint_dict29 = torch.load('/data/new_disk/jyh/animationMesh/torch-ngp/spider2_can7/checkpoints/ngp_ep0098.pth.tar')\n",
    "print(checkpoint_dict29['model']['deform_net.1.weight'])"
   ]
  },
  {
   "cell_type": "code",
   "execution_count": 12,
   "metadata": {},
   "outputs": [
    {
     "name": "stdout",
     "output_type": "stream",
     "text": [
      "torch.Size([3, 128])\n"
     ]
    }
   ],
   "source": [
    "import torch\n",
    "checkpoint_dict28 = torch.load('/data/new_disk/jyh/animationMesh/torch-ngp/record/checkpoints/ngp_ep0090.pth.tar')\n",
    "print(checkpoint_dict28['model']['deform_net.1.weight'].shape)"
   ]
  },
  {
   "cell_type": "code",
   "execution_count": 27,
   "metadata": {},
   "outputs": [
    {
     "data": {
      "text/plain": [
       "56"
      ]
     },
     "execution_count": 27,
     "metadata": {},
     "output_type": "execute_result"
    }
   ],
   "source": [
    "import json\n",
    "with open('/data/new_disk/jyh/datasets/denseView/xzq/transform.json', 'r') as f:\n",
    "    s1 = json.load(f)\n",
    "len(s1['frames'])"
   ]
  },
  {
   "cell_type": "code",
   "execution_count": 26,
   "metadata": {},
   "outputs": [],
   "source": [
    "import numpy as np\n",
    "import cv2\n",
    "for i in range(90):\n",
    "    img = cv2.imread('/data/new_disk/jyh/datasets/denseView/ppx/image/30/%04d.png'%i,cv2.IMREAD_UNCHANGED)\n",
    "    img = img[:,:,:3]\n",
    "    cv2.imwrite('/data/new_disk/jyh/datasets/denseView/ppx/image/29/%04d.png'%i,img)"
   ]
  },
  {
   "cell_type": "code",
   "execution_count": 1,
   "metadata": {},
   "outputs": [],
   "source": [
    "import numpy as np\n",
    "import cv2\n",
    "for i in range(60):\n",
    "    img = cv2.imread('/data/new_disk/jyh/animationMesh/torch-ngp/Ali0/result/%04d.png'%i)\n",
    "    cv2.imwrite('/data/new_disk/jyh/animationMesh/torch-ngp/Ali0/result/can/%04d.png'%i,img)"
   ]
  },
  {
   "cell_type": "code",
   "execution_count": null,
   "metadata": {},
   "outputs": [],
   "source": []
  }
 ],
 "metadata": {
  "kernelspec": {
   "display_name": "Python 3",
   "language": "python",
   "name": "python3"
  },
  "language_info": {
   "codemirror_mode": {
    "name": "ipython",
    "version": 3
   },
   "file_extension": ".py",
   "mimetype": "text/x-python",
   "name": "python",
   "nbconvert_exporter": "python",
   "pygments_lexer": "ipython3",
   "version": "3.6.9"
  }
 },
 "nbformat": 4,
 "nbformat_minor": 4
}
